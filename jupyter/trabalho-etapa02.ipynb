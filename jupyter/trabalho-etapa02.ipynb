{
 "cells": [
  {
   "cell_type": "markdown",
   "metadata": {},
   "source": [
    "=== Modelo Conceitual ===\n",
    "<img src=\"conceitual.png\">"
   ]
  },
  {
   "cell_type": "markdown",
   "metadata": {},
   "source": [
    "=== Modelo Lógico ===\n",
    "<img src=\"logico.png\">"
   ]
  },
  {
   "cell_type": "code",
   "execution_count": null,
   "metadata": {},
   "outputs": [],
   "source": [
    "CREATE TABLE Sintomas(\n",
    "    id long,\n",
    "    tipo varchar(60),\n",
    "    subtipo varchar(60),\n",
    "    nome varchar(60),\n",
    "    descricao text,\n",
    "    PRIMARY KEY (id)\n",
    ")"
   ]
  },
  {
   "cell_type": "code",
   "execution_count": null,
   "metadata": {},
   "outputs": [],
   "source": [
    "CREATE TABLE Doenca(\n",
    "    id long,\n",
    "    nome varchar(60),\n",
    "    descricao text,\n",
    "    idCategoria long,\n",
    "    PRIMARY KEY (id),\n",
    "    FOREIGN KEY (idCategoria) REFERENCES Categoria-Doenca(id)\n",
    ")"
   ]
  },
  {
   "cell_type": "code",
   "execution_count": null,
   "metadata": {},
   "outputs": [],
   "source": [
    "CREATE TABLE Pessoa(\n",
    "    id long,\n",
    "    sexo varchar(60),\n",
    "    idade int,\n",
    "    PRIMARY KEY (id)\n",
    ")"
   ]
  },
  {
   "cell_type": "code",
   "execution_count": null,
   "metadata": {},
   "outputs": [],
   "source": [
    "CREATE TABLE Categoria-Doenca(\n",
    "    id long,\n",
    "    nomeDaCategoria varchar(60),\n",
    "    idCategoriaPai long,\n",
    "    PRIMARY KEY (id),\n",
    "    FOREIGN KEY (idCategoriaPai) REFERENCES Categoria-Doenca(id)\n",
    ")"
   ]
  },
  {
   "cell_type": "code",
   "execution_count": null,
   "metadata": {},
   "outputs": [],
   "source": [
    "CREATE TABLE Habitos(\n",
    "    id long,\n",
    "    tipo varchar(60),\n",
    "    subtipo varchar(60),\n",
    "    nome varchar(60),\n",
    "    descricao varchar(60),\n",
    "    PRIMARY KEY (id)\n",
    ")"
   ]
  },
  {
   "cell_type": "code",
   "execution_count": null,
   "metadata": {},
   "outputs": [],
   "source": [
    "CREATE TABLE Pessoa-Habito(\n",
    "    idPessoa long,\n",
    "    idHabito long,\n",
    "    frequencia varchar(60),\n",
    "    intensidade varchar(60),\n",
    "    FOREIGN KEY (idPessoa) REFERENCES Pessoa(id),\n",
    "    FOREIGN KEY (idHabito) REFERENCES Habitos(id)\n",
    ")"
   ]
  },
  {
   "cell_type": "code",
   "execution_count": null,
   "metadata": {},
   "outputs": [],
   "source": [
    "CREATE TABLE Pessoa-sintomas(\n",
    "    idPessoa long,\n",
    "    idSintomas long,\n",
    "    frequencia varchar(60),\n",
    "    intensidade varchar(60),\n",
    "    FOREIGN KEY (idPessoa) REFERENCES Pessoa(id),\n",
    "    FOREIGN KEY (idSintomas) REFERENCES Sintomas(id)\n",
    ")"
   ]
  },
  {
   "cell_type": "code",
   "execution_count": null,
   "metadata": {},
   "outputs": [],
   "source": [
    "CREATE TABLE Sintoma-doenca(\n",
    "    idDoenca long,\n",
    "    idSintomas long,\n",
    "    frequencia varchar(60),\n",
    "    intensidade varchar(60),\n",
    "    FOREIGN KEY (idDoenca) REFERENCES Doenca(id),\n",
    "    FOREIGN KEY (idSintomas) REFERENCES Sintomas(id)\n",
    ")"
   ]
  },
  {
   "cell_type": "code",
   "execution_count": null,
   "metadata": {},
   "outputs": [],
   "source": [
    "CREATE TABLE Doenca-Pessoa(\n",
    "    idDoenca long,\n",
    "    idPessoa long,\n",
    "    frequencia varchar(60),\n",
    "    intensidade varchar(60),\n",
    "    FOREIGN KEY (idDoenca) REFERENCES Doenca(id),\n",
    "    FOREIGN KEY (idPessoa) REFERENCES Pessoa(id)\n",
    ")"
   ]
  },
  {
   "cell_type": "code",
   "execution_count": null,
   "metadata": {},
   "outputs": [],
   "source": [
    "INSERT INTO Pessoa (id, sexo, idade)\n",
    "VALUES (1, 'masculino', 13),\n",
    "    (2, 'feminino', 14),\n",
    "    (3, 'masculino', 17)"
   ]
  },
  {
   "cell_type": "code",
   "execution_count": null,
   "metadata": {},
   "outputs": [],
   "source": [
    "INSERT INTO Pessoa (id, sexo, idade)\n",
    "SELECT id, sexo, idade\n",
    "FROM CSVREAD('csv.csv')"
   ]
  },
  {
   "cell_type": "code",
   "execution_count": null,
   "metadata": {},
   "outputs": [],
   "source": [
    "select *\n",
    "from pessoa p\n",
    "join pessoa-sintoma ps on p.id = ps.idPessoa\n",
    "join sintomas s on ps.idSintomas = s.id"
   ]
  },
  {
   "cell_type": "code",
   "execution_count": null,
   "metadata": {},
   "outputs": [],
   "source": [
    "select *\n",
    "from pessoa p\n",
    "join doenca-pessoa dp on p.id = dp.idPessoa\n",
    "join doenca d on dp.idDoenca = d.id"
   ]
  },
  {
   "cell_type": "code",
   "execution_count": null,
   "metadata": {},
   "outputs": [],
   "source": [
    "select avg(idade)\n",
    "from pessoa\n",
    "group by sexo"
   ]
  },
  {
   "cell_type": "code",
   "execution_count": null,
   "metadata": {},
   "outputs": [],
   "source": [
    "select avg(idade)\n",
    "from pessoa p\n",
    "join doenca-pessoa dp on p.id = dp.idPessoa\n",
    "join doenca d on dp.idDoenca = d.id\n",
    "group by d.id"
   ]
  },
  {
   "cell_type": "code",
   "execution_count": null,
   "metadata": {},
   "outputs": [],
   "source": [
    "select *\n",
    "from pessoa p\n",
    "join pessoa-habito ph on p.id = ph.idPessoa\n",
    "join habito h on h.id = ph.idHabito"
   ]
  }
 ],
 "metadata": {
  "kernelspec": {
   "display_name": "Python 2",
   "language": "python",
   "name": "python2"
  },
  "language_info": {
   "codemirror_mode": {
    "name": "ipython",
    "version": 2
   },
   "file_extension": ".py",
   "mimetype": "text/x-python",
   "name": "python",
   "nbconvert_exporter": "python",
   "pygments_lexer": "ipython2",
   "version": "2.7.15"
  }
 },
 "nbformat": 4,
 "nbformat_minor": 2
}
